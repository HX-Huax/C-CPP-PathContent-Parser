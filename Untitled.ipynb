{
 "cells": [
  {
   "cell_type": "code",
   "execution_count": 1,
   "id": "6778f8b5-4493-4dde-89a0-b524de8f32e1",
   "metadata": {},
   "outputs": [],
   "source": [
    "import os\n",
    "import shutil\n",
    "import subprocess\n",
    "import tempfile\n",
    "from clang.cindex import Index, Config"
   ]
  },
  {
   "cell_type": "code",
   "execution_count": 3,
   "id": "af1bffed-1d01-4bc9-bb3d-a287c3bcb38d",
   "metadata": {},
   "outputs": [],
   "source": [
    "c_file_path = \"./examples/cpp/example.cpp\"\n",
    "Config.set_library_path(\"/usr/lib\")"
   ]
  },
  {
   "cell_type": "code",
   "execution_count": 18,
   "id": "18d38d69-4ccb-4331-94c3-f5dac718e52b",
   "metadata": {},
   "outputs": [
    {
     "name": "stdout",
     "output_type": "stream",
     "text": [
      "IWYU edited 0 files on your behalf.\n",
      "\n"
     ]
    }
   ],
   "source": [
    "#Clean file\n",
    "with tempfile.TemporaryDirectory() as tmp_dir:\n",
    "    tmp_source = os.path.join(tmp_dir, os.path.basename(c_file_path))\n",
    "    shutil.copy(c_file_path, tmp_source)\n",
    "    try:\n",
    "        iwyu_cmd = ['include-what-you-use']\n",
    "        iwyu_cmd.append(tmp_source)\n",
    "        result = subprocess.run(iwyu_cmd, stdout=subprocess.PIPE, stderr=subprocess.PIPE, text=True)\n",
    "        fix_cmd = ['iwyu-fix-includes', '--nocomments', '--reorder', '--nosafe_headers']\n",
    "        subprocess.run(fix_cmd, input=result.stdout, text=True,cwd=tmp_dir)\n",
    "    except Exception as e:\n",
    "        print(f\"IWYU FAiL:{e}\")\n",
    "        # 使用clang-tidy清理未使用的变量和宏\n",
    "        try:\n",
    "            tidy_cmd = ['clang-tidy', '--fix', '--checks=*unused*', tmp_source]\n",
    "            if build_dir:\n",
    "                tidy_cmd += ['-p', build_dir]\n",
    "            subprocess.run(tidy_cmd, check=True)\n",
    "        except subprocess.CalledProcessError as e:\n",
    "            print(f\"clang-tidy错误：{e}\")\n",
    "        # 生成AST\n",
    "        index = Index.create()\n",
    "        translation_unit = index.parse(tmp_source)"
   ]
  },
  {
   "cell_type": "code",
   "execution_count": 19,
   "id": "4b1354a0-bcd3-4232-ad1f-82d30b6f1b93",
   "metadata": {},
   "outputs": [
    {
     "ename": "NameError",
     "evalue": "name 'translation_unit' is not defined",
     "output_type": "error",
     "traceback": [
      "\u001b[31m---------------------------------------------------------------------------\u001b[39m",
      "\u001b[31mNameError\u001b[39m                                 Traceback (most recent call last)",
      "\u001b[36mCell\u001b[39m\u001b[36m \u001b[39m\u001b[32mIn[19]\u001b[39m\u001b[32m, line 1\u001b[39m\n\u001b[32m----> \u001b[39m\u001b[32m1\u001b[39m \u001b[38;5;28;01mfor\u001b[39;00m node \u001b[38;5;129;01min\u001b[39;00m \u001b[43mtranslation_unit\u001b[49m.cursor.walk_preorder():\n\u001b[32m      2\u001b[39m             \u001b[38;5;28;01mif\u001b[39;00m node.kind.is_declaration():\n\u001b[32m      3\u001b[39m                 \u001b[38;5;28mprint\u001b[39m(\u001b[33mf\u001b[39m\u001b[33m\"\u001b[39m\u001b[33m声明：\u001b[39m\u001b[38;5;132;01m{\u001b[39;00mnode.spelling\u001b[38;5;132;01m}\u001b[39;00m\u001b[33m (\u001b[39m\u001b[38;5;132;01m{\u001b[39;00mnode.location\u001b[38;5;132;01m}\u001b[39;00m\u001b[33m)\u001b[39m\u001b[33m\"\u001b[39m)\n",
      "\u001b[31mNameError\u001b[39m: name 'translation_unit' is not defined"
     ]
    }
   ],
   "source": [
    "for node in translation_unit.cursor.walk_preorder():\n",
    "            if node.kind.is_declaration():\n",
    "                print(f\"声明：{node.spelling} ({node.location})\")"
   ]
  }
 ],
 "metadata": {
  "kernelspec": {
   "display_name": "ProProcess",
   "language": "python",
   "name": "proprocess"
  },
  "language_info": {
   "codemirror_mode": {
    "name": "ipython",
    "version": 3
   },
   "file_extension": ".py",
   "mimetype": "text/x-python",
   "name": "python",
   "nbconvert_exporter": "python",
   "pygments_lexer": "ipython3",
   "version": "3.13.3"
  }
 },
 "nbformat": 4,
 "nbformat_minor": 5
}
