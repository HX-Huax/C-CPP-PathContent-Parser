{
 "cells": [
  {
   "cell_type": "code",
   "execution_count": 1,
   "id": "e8484329-9c20-40aa-8a51-eab0296e834f",
   "metadata": {},
   "outputs": [],
   "source": [
    "import pandas as pd\n",
    "base_url = \"/home/hx/Dev/Project/CAM/ProProcess\""
   ]
  },
  {
   "cell_type": "code",
   "execution_count": 2,
   "id": "0ad889b9-d893-472f-a0dc-8adda535882e",
   "metadata": {},
   "outputs": [
    {
     "ename": "KeyboardInterrupt",
     "evalue": "",
     "output_type": "error",
     "traceback": [
      "\u001b[31m---------------------------------------------------------------------------\u001b[39m",
      "\u001b[31mKeyboardInterrupt\u001b[39m                         Traceback (most recent call last)",
      "\u001b[36mCell\u001b[39m\u001b[36m \u001b[39m\u001b[32mIn[2]\u001b[39m\u001b[32m, line 18\u001b[39m\n\u001b[32m     16\u001b[39m                 \u001b[38;5;28;01mcontinue\u001b[39;00m  \u001b[38;5;66;03m# 跳过无法转换的数值组\u001b[39;00m\n\u001b[32m     17\u001b[39m             \u001b[38;5;66;03m# 添加标签和数值到数据列表\u001b[39;00m\n\u001b[32m---> \u001b[39m\u001b[32m18\u001b[39m             data.append([label] + num_values)\n\u001b[32m     20\u001b[39m \u001b[38;5;66;03m# 确定列名（假设所有数值组长度相同）\u001b[39;00m\n\u001b[32m     21\u001b[39m \u001b[38;5;28;01mif\u001b[39;00m data:\n",
      "\u001b[31mKeyboardInterrupt\u001b[39m: "
     ]
    }
   ],
   "source": [
    "data = []\n",
    "with open(base_url+'/examples/final/pathcontext.txt', 'r') as f:\n",
    "    for line in f:\n",
    "        line = line.strip()\n",
    "        if not line:\n",
    "            continue\n",
    "        parts = line.split()\n",
    "        label = parts[0]\n",
    "        value_groups = parts[1:]\n",
    "        for vg in value_groups:\n",
    "            # 拆分并转换数值\n",
    "            values = vg.split(',')\n",
    "            try:\n",
    "                num_values = [int(x) for x in values]\n",
    "            except ValueError:\n",
    "                continue  # 跳过无法转换的数值组\n",
    "            # 添加标签和数值到数据列表\n",
    "            data.append([label] + num_values)\n",
    "\n",
    "# 确定列名（假设所有数值组长度相同）\n",
    "if data:\n",
    "    num_columns = len(data[0]) - 1\n",
    "    columns = ['label'] + [f'val_{i+1}' for i in range(num_columns)]\n",
    "else:\n",
    "    columns = ['label']\n",
    "\n",
    "df = pd.DataFrame(data, columns=columns)"
   ]
  },
  {
   "cell_type": "code",
   "execution_count": 3,
   "id": "ec415cea-e3f3-4255-a5bc-ba44523a813f",
   "metadata": {},
   "outputs": [
    {
     "data": {
      "text/plain": [
       "(2836927, 4)"
      ]
     },
     "execution_count": 3,
     "metadata": {},
     "output_type": "execute_result"
    }
   ],
   "source": [
    "df.shape"
   ]
  },
  {
   "cell_type": "code",
   "execution_count": 4,
   "id": "52067c11-6fb3-4434-8c63-da7aac6d1641",
   "metadata": {},
   "outputs": [
    {
     "name": "stdout",
     "output_type": "stream",
     "text": [
      "                                  label  val_1   val_2  val_3\n",
      "0        2025-01-10_16-13-26_构造_字符串.cpp      1       1      2\n",
      "1        2025-01-10_16-13-26_构造_字符串.cpp      3       1      2\n",
      "2        2025-01-10_16-13-26_构造_字符串.cpp      4       1      2\n",
      "3        2025-01-10_16-13-26_构造_字符串.cpp      5       2      6\n",
      "4        2025-01-10_16-13-26_构造_字符串.cpp      7       3      8\n",
      "...                                 ...    ...     ...    ...\n",
      "2836922                       llama.cpp      6  437900    351\n",
      "2836923                       llama.cpp      6  437901    117\n",
      "2836924                       llama.cpp      6  437905   2040\n",
      "2836925                       llama.cpp      6   98325    915\n",
      "2836926                       llama.cpp      6     580    271\n",
      "\n",
      "[2836927 rows x 4 columns]\n"
     ]
    }
   ],
   "source": [
    "print(df)"
   ]
  },
  {
   "cell_type": "code",
   "execution_count": 15,
   "id": "6e3b5f5e-b94f-4dbd-832f-7317805b2998",
   "metadata": {},
   "outputs": [
    {
     "name": "stderr",
     "output_type": "stream",
     "text": [
      "/tmp/ipykernel_25435/2914209628.py:5: DeprecationWarning: DataFrameGroupBy.apply operated on the grouping columns. This behavior is deprecated, and in a future version of pandas the grouping columns will be excluded from the operation. Either pass `include_groups=False` to exclude the groupings or explicitly select the grouping columns after groupby to silence this warning.\n",
      "  .apply(lambda g: g.sample(n=258, random_state=42, replace=True), include_groups=True)\n"
     ]
    }
   ],
   "source": [
    "\n",
    "# 假设 df 是你的原始 DataFrame\n",
    "vector = (\n",
    "    df.groupby('label', group_keys=False)\n",
    "    # 显式包含分组列以避免警告，并确保抽样后保留 label\n",
    "    .apply(lambda g: g.sample(n=258, random_state=42, replace=True), include_groups=True)\n",
    "    # 二次分组时直接选取目标列，避免分组列干扰\n",
    "    .groupby('label')[['val_1', 'val_2', 'val_3']]\n",
    "    # 合并三列为向量\n",
    "    .apply(lambda g: g.values.flatten())\n",
    ")\n",
    "\n",
    "# 转换为 DataFrame\n",
    "result_df = pd.DataFrame(vector.tolist(), index=vector.index)"
   ]
  },
  {
   "cell_type": "code",
   "execution_count": 16,
   "id": "634cd4c8-2f77-4044-a333-b4a88d53c926",
   "metadata": {},
   "outputs": [
    {
     "data": {
      "text/plain": [
       "(100, 774)"
      ]
     },
     "execution_count": 16,
     "metadata": {},
     "output_type": "execute_result"
    }
   ],
   "source": [
    "result_df.shape"
   ]
  },
  {
   "cell_type": "code",
   "execution_count": 12,
   "id": "109183e2-522e-435b-8ed6-ab689f4c8c16",
   "metadata": {},
   "outputs": [],
   "source": [
    "import numpy as np\n",
    "import hashlib"
   ]
  },
  {
   "cell_type": "code",
   "execution_count": 17,
   "id": "ba47a604-535c-4634-b5dc-381e333184fe",
   "metadata": {},
   "outputs": [
    {
     "name": "stdout",
     "output_type": "stream",
     "text": [
      "总数据量: 200\n",
      "原始数据示例:\n",
      "             data_type      0         1      2      3         4      5    6  \\\n",
      "hashed_label                                                                  \n",
      "760531894     original  114.0   21586.0  165.0  165.0   15431.0  168.0  2.0   \n",
      "4093240987    original    6.0  123320.0  493.0  481.0    4172.0    2.0  8.0   \n",
      "2375987114    original    7.0  168657.0    2.0    6.0  168715.0  495.0  4.0   \n",
      "933509859     original   53.0  172376.0    6.0  165.0  169008.0    8.0  6.0   \n",
      "1811766566    original  138.0  185053.0  784.0    6.0  182566.0  782.0  6.0   \n",
      "\n",
      "                     7      8  ...    764    765       766    767    768  \\\n",
      "hashed_label                   ...                                         \n",
      "760531894      33568.0    8.0  ...    6.0    6.0   22975.0    6.0    6.0   \n",
      "4093240987    122421.0  165.0  ...    8.0  165.0  123793.0  165.0    8.0   \n",
      "2375987114    122512.0    2.0  ...  492.0    6.0   16309.0  192.0  191.0   \n",
      "933509859     170071.0  114.0  ...    6.0   86.0  173361.0    6.0   53.0   \n",
      "1811766566    189272.0    2.0  ...  176.0  177.0   54971.0  221.0    6.0   \n",
      "\n",
      "                   769    770    771       772    773  \n",
      "hashed_label                                           \n",
      "760531894      16508.0  178.0  117.0   15106.0    8.0  \n",
      "4093240987    125791.0    6.0    8.0  125979.0  202.0  \n",
      "2375987114    122579.0  165.0  191.0  122283.0  186.0  \n",
      "933509859      19576.0  230.0    3.0  171561.0    6.0  \n",
      "1811766566    186151.0    6.0  165.0  190906.0    6.0  \n",
      "\n",
      "[5 rows x 775 columns]\n",
      "\n",
      "增强数据示例:\n",
      "              data_type           0              1           2           3  \\\n",
      "hashed_label                                                                 \n",
      "760531894     augmented  114.009066   21585.999334  165.015475  164.990145   \n",
      "4093240987    augmented    5.987222  123319.995079  492.983250  480.985110   \n",
      "2375987114    augmented    6.984583  168656.990852    2.006341    6.008624   \n",
      "933509859     augmented   52.989431  172375.998557    6.002204  165.002068   \n",
      "1811766566    augmented  138.004582  185053.000416  784.011585    6.006586   \n",
      "\n",
      "                          4           5         6              7           8  \\\n",
      "hashed_label                                                                   \n",
      "760531894      15430.983138  167.979811  2.004427   33567.989683    7.992036   \n",
      "4093240987      4172.005830    1.990931  7.997114  122421.007185  165.005500   \n",
      "2375987114    168714.994997  495.007815  3.982987  122512.021532    1.988227   \n",
      "933509859     169007.992245    7.988932  6.004495  170070.994586  113.992966   \n",
      "1811766566    182566.001327  781.988557  6.001381  189271.999693    2.010833   \n",
      "\n",
      "              ...         764         765            766         767  \\\n",
      "hashed_label  ...                                                      \n",
      "760531894     ...    5.994784    5.984658   22974.988873    5.998576   \n",
      "4093240987    ...    8.001527  165.003751  123793.001391  165.003953   \n",
      "2375987114    ...  492.002822    5.994396   16309.011917  192.011441   \n",
      "933509859     ...    6.024990   85.997162  173360.986404    5.995228   \n",
      "1811766566    ...  176.002718  176.994083   54971.003100  220.986111   \n",
      "\n",
      "                     768            769         770         771  \\\n",
      "hashed_label                                                      \n",
      "760531894       5.982446   16508.016394  178.006525  117.012418   \n",
      "4093240987      7.997207  125791.000743    6.002479    8.015159   \n",
      "2375987114    191.005712  122578.989407  165.001257  191.002593   \n",
      "933509859      53.012822   19576.009424  230.007218    3.019604   \n",
      "1811766566      5.986169  186151.000084    6.000666  165.000452   \n",
      "\n",
      "                        772         773  \n",
      "hashed_label                             \n",
      "760531894      15105.994501    8.003636  \n",
      "4093240987    125978.984912  202.019314  \n",
      "2375987114    122282.996380  186.021129  \n",
      "933509859     171560.992015    6.000102  \n",
      "1811766566    190905.995810    5.999752  \n",
      "\n",
      "[5 rows x 775 columns]\n"
     ]
    }
   ],
   "source": [
    "# ========================\n",
    "# 数据预处理函数\n",
    "# ========================\n",
    "def stable_hash(label, digest_bits=32):\n",
    "    \"\"\"生成稳定的哈希整数标签\"\"\"\n",
    "    hex_hash = hashlib.sha256(str(label).encode()).hexdigest()\n",
    "    full_hash = int(hex_hash, 16)\n",
    "    return abs(full_hash & ((1 << digest_bits) - 1))\n",
    "\n",
    "# ========================\n",
    "# 数据增强管道\n",
    "# ========================\n",
    "class DataAugmenter:\n",
    "    def __init__(self, noise_scale=0.01):\n",
    "        self.noise_scale = noise_scale\n",
    "        \n",
    "    def add_noise(self, data):\n",
    "        \"\"\"添加高斯噪声并保留原始数据\"\"\"\n",
    "        # 创建副本用于添加噪声\n",
    "        noisy_data = data.copy()\n",
    "        noisy_values = noisy_data.values + np.random.normal(\n",
    "            scale=self.noise_scale, \n",
    "            size=noisy_data.shape\n",
    "        )\n",
    "        return pd.DataFrame(noisy_values, \n",
    "                           index=noisy_data.index,\n",
    "                           columns=noisy_data.columns)\n",
    "\n",
    "# ========================\n",
    "# 主处理流程\n",
    "# ========================\n",
    "def process_data(original_df):\n",
    "    # 创建副本保护原始数据\n",
    "    processed_df = original_df.copy()\n",
    "    \n",
    "    # 步骤1：哈希化标签\n",
    "    processed_df.index = processed_df.index.map(stable_hash)\n",
    "    processed_df.index.name = \"hashed_label\"\n",
    "    \n",
    "    # 步骤2：数据增强\n",
    "    augmenter = DataAugmenter(noise_scale=0.01)\n",
    "    augmented_df = augmenter.add_noise(processed_df)\n",
    "    \n",
    "    # 步骤3：合并数据集\n",
    "    combined_df = pd.concat(\n",
    "        [processed_df, augmented_df],\n",
    "        keys=['original', 'augmented'],\n",
    "        names=['data_type', 'hashed_label']\n",
    "    ).reset_index(level='data_type')\n",
    "    \n",
    "    return combined_df\n",
    "\n",
    "# ========================\n",
    "# 执行处理\n",
    "# ========================\n",
    "# 假设已有原始处理后的 result_df（来自之前步骤）\n",
    "final_df = process_data(result_df)\n",
    "\n",
    "# 验证结果\n",
    "print(f\"总数据量: {len(final_df)}\")\n",
    "print(f\"原始数据示例:\")\n",
    "print(final_df[final_df['data_type'] == 'original'].head())\n",
    "print(f\"\\n增强数据示例:\")\n",
    "print(final_df[final_df['data_type'] == 'augmented'].head())"
   ]
  },
  {
   "cell_type": "code",
   "execution_count": 20,
   "id": "0a76f259-b0ca-46bc-94d8-46a1e279c352",
   "metadata": {},
   "outputs": [
    {
     "data": {
      "text/plain": [
       "(200, 775)"
      ]
     },
     "execution_count": 20,
     "metadata": {},
     "output_type": "execute_result"
    }
   ],
   "source": [
    "final_df.shape"
   ]
  },
  {
   "cell_type": "code",
   "execution_count": 22,
   "id": "5a106e42-572b-4bd2-b7e5-73c0ed13a445",
   "metadata": {},
   "outputs": [
    {
     "name": "stdout",
     "output_type": "stream",
     "text": [
      "              data_type            0              1            2           3  \\\n",
      "hashed_label                                                                   \n",
      "760531894      original   114.000000   21586.000000   165.000000  165.000000   \n",
      "4093240987     original     6.000000  123320.000000   493.000000  481.000000   \n",
      "2375987114     original     7.000000  168657.000000     2.000000    6.000000   \n",
      "933509859      original    53.000000  172376.000000     6.000000  165.000000   \n",
      "1811766566     original   138.000000  185053.000000   784.000000    6.000000   \n",
      "...                 ...          ...            ...          ...         ...   \n",
      "682752276     augmented   181.004728  181785.000311   499.019133  744.991701   \n",
      "3514949202    augmented  1522.005819    1588.994615  1526.990132    5.990203   \n",
      "582245980     augmented    92.977200  353961.999141     8.000571  473.999062   \n",
      "883079678     augmented   533.022965    2549.005627  2270.983882    7.990158   \n",
      "3827590945    augmented   137.993720   11679.021294     7.991609  137.992521   \n",
      "\n",
      "                          4            5            6              7  \\\n",
      "hashed_label                                                           \n",
      "760531894      15431.000000   168.000000     2.000000   33568.000000   \n",
      "4093240987      4172.000000     2.000000     8.000000  122421.000000   \n",
      "2375987114    168715.000000   495.000000     4.000000  122512.000000   \n",
      "933509859     169008.000000     8.000000     6.000000  170071.000000   \n",
      "1811766566    182566.000000   782.000000     6.000000  189272.000000   \n",
      "...                     ...          ...          ...            ...   \n",
      "682752276       1589.998995     5.998756     6.003327   40454.010536   \n",
      "3514949202    160198.001638  1497.004892   904.001660  350209.983509   \n",
      "582245980         97.994252  1576.999489   466.006716    2194.004099   \n",
      "883079678     423491.993630     7.985168  2110.994052    5961.998552   \n",
      "3827590945     13439.001761   122.992165   132.016141    9242.007649   \n",
      "\n",
      "                        8  ...          764         765            766  \\\n",
      "hashed_label               ...                                           \n",
      "760531894        8.000000  ...     6.000000    6.000000   22975.000000   \n",
      "4093240987     165.000000  ...     8.000000  165.000000  123793.000000   \n",
      "2375987114       2.000000  ...   492.000000    6.000000   16309.000000   \n",
      "933509859      114.000000  ...     6.000000   86.000000  173361.000000   \n",
      "1811766566       2.000000  ...   176.000000  177.000000   54971.000000   \n",
      "...                   ...  ...          ...         ...            ...   \n",
      "682752276      736.983119  ...    52.999209  472.988057    2677.990076   \n",
      "3514949202    1495.019479  ...  1499.004907  466.009752   45848.986308   \n",
      "582245980     1598.003671  ...  1602.003910    2.004132    4505.019017   \n",
      "883079678     2270.011055  ...  2210.009524  126.012466    8974.991774   \n",
      "3827590945       2.006116  ...   135.005576    1.996834   13953.996230   \n",
      "\n",
      "                     767          768            769          770  \\\n",
      "hashed_label                                                        \n",
      "760531894       6.000000     6.000000   16508.000000   178.000000   \n",
      "4093240987    165.000000     8.000000  125791.000000     6.000000   \n",
      "2375987114    192.000000   191.000000  122579.000000   165.000000   \n",
      "933509859       6.000000    53.000000   19576.000000   230.000000   \n",
      "1811766566    221.000000     6.000000  186151.000000     6.000000   \n",
      "...                  ...          ...            ...          ...   \n",
      "682752276     473.995289   496.987906  127748.007517   744.978618   \n",
      "3514949202     18.005573   504.990599    1799.976113   465.993559   \n",
      "582245980      18.006986   465.994492   73308.007353  1579.993442   \n",
      "883079678       2.008335  2275.994001  423870.002426   137.016134   \n",
      "3827590945    154.003458     6.002838    2868.984408   144.994573   \n",
      "\n",
      "                      771            772          773  \n",
      "hashed_label                                           \n",
      "760531894      117.000000   15106.000000     8.000000  \n",
      "4093240987       8.000000  125979.000000   202.000000  \n",
      "2375987114     191.000000  122283.000000   186.000000  \n",
      "933509859        3.000000  171561.000000     6.000000  \n",
      "1811766566     165.000000  190906.000000     6.000000  \n",
      "...                   ...            ...          ...  \n",
      "682752276      499.009449   39615.006967   773.982718  \n",
      "3514949202    1515.000501      75.002964  1503.990009  \n",
      "582245980       18.013311  216154.005017  1596.984418  \n",
      "883079678        5.990963     637.006091   421.002174  \n",
      "3827590945       1.992860   14446.990918   120.995668  \n",
      "\n",
      "[200 rows x 775 columns]\n"
     ]
    }
   ],
   "source": [
    "print(final_df)"
   ]
  }
 ],
 "metadata": {
  "kernelspec": {
   "display_name": "ProProcess",
   "language": "python",
   "name": "proprocess"
  },
  "language_info": {
   "codemirror_mode": {
    "name": "ipython",
    "version": 3
   },
   "file_extension": ".py",
   "mimetype": "text/x-python",
   "name": "python",
   "nbconvert_exporter": "python",
   "pygments_lexer": "ipython3",
   "version": "3.13.3"
  }
 },
 "nbformat": 4,
 "nbformat_minor": 5
}
